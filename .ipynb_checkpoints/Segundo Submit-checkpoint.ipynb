{
 "cells": [
  {
   "cell_type": "code",
   "execution_count": 1,
   "id": "da947dbe",
   "metadata": {},
   "outputs": [],
   "source": [
    "import numpy as np\n",
    "import pandas as pd\n",
    "import matplotlib.pyplot as plt\n",
    "import seaborn as sns\n",
    "%matplotlib inline\n",
    "sns.set_style('whitegrid')"
   ]
  },
  {
   "cell_type": "code",
   "execution_count": 6,
   "id": "87d64968",
   "metadata": {},
   "outputs": [],
   "source": [
    "train = pd.read_csv('train.csv')"
   ]
  },
  {
   "cell_type": "code",
   "execution_count": 53,
   "id": "29f2d73e",
   "metadata": {},
   "outputs": [
    {
     "data": {
      "text/html": [
       "<div>\n",
       "<style scoped>\n",
       "    .dataframe tbody tr th:only-of-type {\n",
       "        vertical-align: middle;\n",
       "    }\n",
       "\n",
       "    .dataframe tbody tr th {\n",
       "        vertical-align: top;\n",
       "    }\n",
       "\n",
       "    .dataframe thead th {\n",
       "        text-align: right;\n",
       "    }\n",
       "</style>\n",
       "<table border=\"1\" class=\"dataframe\">\n",
       "  <thead>\n",
       "    <tr style=\"text-align: right;\">\n",
       "      <th></th>\n",
       "      <th>Id</th>\n",
       "      <th>MSSubClass</th>\n",
       "      <th>MSZoning</th>\n",
       "      <th>LotFrontage</th>\n",
       "      <th>LotArea</th>\n",
       "      <th>Street</th>\n",
       "      <th>Alley</th>\n",
       "      <th>LotShape</th>\n",
       "      <th>LandContour</th>\n",
       "      <th>Utilities</th>\n",
       "      <th>...</th>\n",
       "      <th>PoolArea</th>\n",
       "      <th>PoolQC</th>\n",
       "      <th>Fence</th>\n",
       "      <th>MiscFeature</th>\n",
       "      <th>MiscVal</th>\n",
       "      <th>MoSold</th>\n",
       "      <th>YrSold</th>\n",
       "      <th>SaleType</th>\n",
       "      <th>SaleCondition</th>\n",
       "      <th>SalePrice</th>\n",
       "    </tr>\n",
       "  </thead>\n",
       "  <tbody>\n",
       "    <tr>\n",
       "      <th>0</th>\n",
       "      <td>1</td>\n",
       "      <td>60</td>\n",
       "      <td>RL</td>\n",
       "      <td>65.0</td>\n",
       "      <td>8450</td>\n",
       "      <td>Pave</td>\n",
       "      <td>NaN</td>\n",
       "      <td>Reg</td>\n",
       "      <td>Lvl</td>\n",
       "      <td>AllPub</td>\n",
       "      <td>...</td>\n",
       "      <td>0</td>\n",
       "      <td>NaN</td>\n",
       "      <td>NaN</td>\n",
       "      <td>NaN</td>\n",
       "      <td>0</td>\n",
       "      <td>2</td>\n",
       "      <td>2008</td>\n",
       "      <td>WD</td>\n",
       "      <td>Normal</td>\n",
       "      <td>208500</td>\n",
       "    </tr>\n",
       "    <tr>\n",
       "      <th>1</th>\n",
       "      <td>2</td>\n",
       "      <td>20</td>\n",
       "      <td>RL</td>\n",
       "      <td>80.0</td>\n",
       "      <td>9600</td>\n",
       "      <td>Pave</td>\n",
       "      <td>NaN</td>\n",
       "      <td>Reg</td>\n",
       "      <td>Lvl</td>\n",
       "      <td>AllPub</td>\n",
       "      <td>...</td>\n",
       "      <td>0</td>\n",
       "      <td>NaN</td>\n",
       "      <td>NaN</td>\n",
       "      <td>NaN</td>\n",
       "      <td>0</td>\n",
       "      <td>5</td>\n",
       "      <td>2007</td>\n",
       "      <td>WD</td>\n",
       "      <td>Normal</td>\n",
       "      <td>181500</td>\n",
       "    </tr>\n",
       "    <tr>\n",
       "      <th>2</th>\n",
       "      <td>3</td>\n",
       "      <td>60</td>\n",
       "      <td>RL</td>\n",
       "      <td>68.0</td>\n",
       "      <td>11250</td>\n",
       "      <td>Pave</td>\n",
       "      <td>NaN</td>\n",
       "      <td>IR1</td>\n",
       "      <td>Lvl</td>\n",
       "      <td>AllPub</td>\n",
       "      <td>...</td>\n",
       "      <td>0</td>\n",
       "      <td>NaN</td>\n",
       "      <td>NaN</td>\n",
       "      <td>NaN</td>\n",
       "      <td>0</td>\n",
       "      <td>9</td>\n",
       "      <td>2008</td>\n",
       "      <td>WD</td>\n",
       "      <td>Normal</td>\n",
       "      <td>223500</td>\n",
       "    </tr>\n",
       "    <tr>\n",
       "      <th>3</th>\n",
       "      <td>4</td>\n",
       "      <td>70</td>\n",
       "      <td>RL</td>\n",
       "      <td>60.0</td>\n",
       "      <td>9550</td>\n",
       "      <td>Pave</td>\n",
       "      <td>NaN</td>\n",
       "      <td>IR1</td>\n",
       "      <td>Lvl</td>\n",
       "      <td>AllPub</td>\n",
       "      <td>...</td>\n",
       "      <td>0</td>\n",
       "      <td>NaN</td>\n",
       "      <td>NaN</td>\n",
       "      <td>NaN</td>\n",
       "      <td>0</td>\n",
       "      <td>2</td>\n",
       "      <td>2006</td>\n",
       "      <td>WD</td>\n",
       "      <td>Abnorml</td>\n",
       "      <td>140000</td>\n",
       "    </tr>\n",
       "    <tr>\n",
       "      <th>4</th>\n",
       "      <td>5</td>\n",
       "      <td>60</td>\n",
       "      <td>RL</td>\n",
       "      <td>84.0</td>\n",
       "      <td>14260</td>\n",
       "      <td>Pave</td>\n",
       "      <td>NaN</td>\n",
       "      <td>IR1</td>\n",
       "      <td>Lvl</td>\n",
       "      <td>AllPub</td>\n",
       "      <td>...</td>\n",
       "      <td>0</td>\n",
       "      <td>NaN</td>\n",
       "      <td>NaN</td>\n",
       "      <td>NaN</td>\n",
       "      <td>0</td>\n",
       "      <td>12</td>\n",
       "      <td>2008</td>\n",
       "      <td>WD</td>\n",
       "      <td>Normal</td>\n",
       "      <td>250000</td>\n",
       "    </tr>\n",
       "  </tbody>\n",
       "</table>\n",
       "<p>5 rows × 81 columns</p>\n",
       "</div>"
      ],
      "text/plain": [
       "   Id  MSSubClass MSZoning  LotFrontage  LotArea Street Alley LotShape  \\\n",
       "0   1          60       RL         65.0     8450   Pave   NaN      Reg   \n",
       "1   2          20       RL         80.0     9600   Pave   NaN      Reg   \n",
       "2   3          60       RL         68.0    11250   Pave   NaN      IR1   \n",
       "3   4          70       RL         60.0     9550   Pave   NaN      IR1   \n",
       "4   5          60       RL         84.0    14260   Pave   NaN      IR1   \n",
       "\n",
       "  LandContour Utilities  ... PoolArea PoolQC Fence MiscFeature MiscVal MoSold  \\\n",
       "0         Lvl    AllPub  ...        0    NaN   NaN         NaN       0      2   \n",
       "1         Lvl    AllPub  ...        0    NaN   NaN         NaN       0      5   \n",
       "2         Lvl    AllPub  ...        0    NaN   NaN         NaN       0      9   \n",
       "3         Lvl    AllPub  ...        0    NaN   NaN         NaN       0      2   \n",
       "4         Lvl    AllPub  ...        0    NaN   NaN         NaN       0     12   \n",
       "\n",
       "  YrSold  SaleType  SaleCondition  SalePrice  \n",
       "0   2008        WD         Normal     208500  \n",
       "1   2007        WD         Normal     181500  \n",
       "2   2008        WD         Normal     223500  \n",
       "3   2006        WD        Abnorml     140000  \n",
       "4   2008        WD         Normal     250000  \n",
       "\n",
       "[5 rows x 81 columns]"
      ]
     },
     "execution_count": 53,
     "metadata": {},
     "output_type": "execute_result"
    }
   ],
   "source": [
    "train.head()"
   ]
  },
  {
   "cell_type": "code",
   "execution_count": 54,
   "id": "bda108bd",
   "metadata": {},
   "outputs": [
    {
     "data": {
      "text/plain": [
       "Index(['Id', 'MSSubClass', 'MSZoning', 'LotFrontage', 'LotArea', 'Street',\n",
       "       'Alley', 'LotShape', 'LandContour', 'Utilities', 'LotConfig',\n",
       "       'LandSlope', 'Neighborhood', 'Condition1', 'Condition2', 'BldgType',\n",
       "       'HouseStyle', 'OverallQual', 'OverallCond', 'YearBuilt', 'YearRemodAdd',\n",
       "       'RoofStyle', 'RoofMatl', 'Exterior1st', 'Exterior2nd', 'MasVnrType',\n",
       "       'MasVnrArea', 'ExterQual', 'ExterCond', 'Foundation', 'BsmtQual',\n",
       "       'BsmtCond', 'BsmtExposure', 'BsmtFinType1', 'BsmtFinSF1',\n",
       "       'BsmtFinType2', 'BsmtFinSF2', 'BsmtUnfSF', 'TotalBsmtSF', 'Heating',\n",
       "       'HeatingQC', 'CentralAir', 'Electrical', '1stFlrSF', '2ndFlrSF',\n",
       "       'LowQualFinSF', 'GrLivArea', 'BsmtFullBath', 'BsmtHalfBath', 'FullBath',\n",
       "       'HalfBath', 'BedroomAbvGr', 'KitchenAbvGr', 'KitchenQual',\n",
       "       'TotRmsAbvGrd', 'Functional', 'Fireplaces', 'FireplaceQu', 'GarageType',\n",
       "       'GarageYrBlt', 'GarageFinish', 'GarageCars', 'GarageArea', 'GarageQual',\n",
       "       'GarageCond', 'PavedDrive', 'WoodDeckSF', 'OpenPorchSF',\n",
       "       'EnclosedPorch', '3SsnPorch', 'ScreenPorch', 'PoolArea', 'PoolQC',\n",
       "       'Fence', 'MiscFeature', 'MiscVal', 'MoSold', 'YrSold', 'SaleType',\n",
       "       'SaleCondition', 'SalePrice'],\n",
       "      dtype='object')"
      ]
     },
     "execution_count": 54,
     "metadata": {},
     "output_type": "execute_result"
    }
   ],
   "source": [
    "train.columns"
   ]
  },
  {
   "cell_type": "code",
   "execution_count": 56,
   "id": "de28c0ba",
   "metadata": {},
   "outputs": [],
   "source": [
    "bons = train[['LotFrontage', 'OverallQual', 'BsmtQual', 'TotalBsmtSF', 'HeatingQC', '1stFlrSF',\n",
    "       '2ndFlrSF', 'GrLivArea', 'KitchenQual', 'TotRmsAbvGrd', 'GarageYrBlt', 'GarageCars', 'GarageArea', 'PavedDrive', 'SalePrice']]"
   ]
  },
  {
   "cell_type": "code",
   "execution_count": 49,
   "id": "cbc46bf7",
   "metadata": {},
   "outputs": [],
   "source": [
    "samp = train[['PoolQC',\n",
    "       'Fence', 'MiscFeature', 'MiscVal', 'MoSold', 'YrSold', 'SaleType',\n",
    "       'SaleCondition', 'SalePrice']]"
   ]
  },
  {
   "cell_type": "code",
   "execution_count": 50,
   "id": "2d5f0b6c",
   "metadata": {},
   "outputs": [
    {
     "data": {
      "text/plain": [
       "<seaborn.axisgrid.PairGrid at 0x1abe4bab9a0>"
      ]
     },
     "execution_count": 50,
     "metadata": {},
     "output_type": "execute_result"
    },
    {
     "data": {
      "image/png": "[encoded data removed]",
      "text/plain": [
       "<Figure size 720x720 with 20 Axes>"
      ]
     },
     "metadata": {},
     "output_type": "display_data"
    }
   ],
   "source": [
    "sns.pairplot(samp)"
   ]
  },
  {
   "cell_type": "code",
   "execution_count": 51,
   "id": "b5ebf03b",
   "metadata": {},
   "outputs": [
    {
     "data": {
      "text/plain": [
       "PoolQC            3\n",
       "Fence             4\n",
       "MiscFeature       4\n",
       "MiscVal          21\n",
       "MoSold           12\n",
       "YrSold            5\n",
       "SaleType          9\n",
       "SaleCondition     6\n",
       "dtype: int64"
      ]
     },
     "execution_count": 51,
     "metadata": {},
     "output_type": "execute_result"
    }
   ],
   "source": [
    "train[['PoolQC',\n",
    "       'Fence', 'MiscFeature', 'MiscVal', 'MoSold', 'YrSold', 'SaleType',\n",
    "       'SaleCondition']].nunique()"
   ]
  },
  {
   "cell_type": "code",
   "execution_count": 48,
   "id": "ca0267cc",
   "metadata": {},
   "outputs": [
    {
     "data": {
      "text/plain": [
       "<AxesSubplot:xlabel='PavedDrive', ylabel='SalePrice'>"
      ]
     },
     "execution_count": 48,
     "metadata": {},
     "output_type": "execute_result"
    },
    {
     "data": {
      "image/png": "[encoded data removed]",
      "text/plain": [
       "<Figure size 432x288 with 1 Axes>"
      ]
     },
     "metadata": {},
     "output_type": "display_data"
    }
   ],
   "source": [
    "sns.scatterplot(x='PavedDrive', y='SalePrice', data=train)"
   ]
  },
  {
   "cell_type": "code",
   "execution_count": 7,
   "id": "73e189b6",
   "metadata": {},
   "outputs": [],
   "source": [
    "train = train[['LotFrontage', 'OverallQual', 'BsmtQual', 'TotalBsmtSF', 'HeatingQC', '1stFlrSF',\n",
    "       '2ndFlrSF', 'GrLivArea', 'KitchenQual', 'TotRmsAbvGrd', 'GarageYrBlt', 'GarageCars', 'GarageArea', 'PavedDrive', 'SalePrice']]"
   ]
  },
  {
   "cell_type": "code",
   "execution_count": 58,
   "id": "53a82047",
   "metadata": {},
   "outputs": [
    {
     "data": {
      "text/html": [
       "<div>\n",
       "<style scoped>\n",
       "    .dataframe tbody tr th:only-of-type {\n",
       "        vertical-align: middle;\n",
       "    }\n",
       "\n",
       "    .dataframe tbody tr th {\n",
       "        vertical-align: top;\n",
       "    }\n",
       "\n",
       "    .dataframe thead th {\n",
       "        text-align: right;\n",
       "    }\n",
       "</style>\n",
       "<table border=\"1\" class=\"dataframe\">\n",
       "  <thead>\n",
       "    <tr style=\"text-align: right;\">\n",
       "      <th></th>\n",
       "      <th>LotFrontage</th>\n",
       "      <th>OverallQual</th>\n",
       "      <th>BsmtQual</th>\n",
       "      <th>TotalBsmtSF</th>\n",
       "      <th>HeatingQC</th>\n",
       "      <th>1stFlrSF</th>\n",
       "      <th>2ndFlrSF</th>\n",
       "      <th>GrLivArea</th>\n",
       "      <th>KitchenQual</th>\n",
       "      <th>TotRmsAbvGrd</th>\n",
       "      <th>GarageYrBlt</th>\n",
       "      <th>GarageCars</th>\n",
       "      <th>GarageArea</th>\n",
       "      <th>PavedDrive</th>\n",
       "    </tr>\n",
       "  </thead>\n",
       "  <tbody>\n",
       "    <tr>\n",
       "      <th>0</th>\n",
       "      <td>65.0</td>\n",
       "      <td>7</td>\n",
       "      <td>Gd</td>\n",
       "      <td>856</td>\n",
       "      <td>Ex</td>\n",
       "      <td>856</td>\n",
       "      <td>854</td>\n",
       "      <td>1710</td>\n",
       "      <td>Gd</td>\n",
       "      <td>8</td>\n",
       "      <td>2003.0</td>\n",
       "      <td>2</td>\n",
       "      <td>548</td>\n",
       "      <td>Y</td>\n",
       "    </tr>\n",
       "    <tr>\n",
       "      <th>1</th>\n",
       "      <td>80.0</td>\n",
       "      <td>6</td>\n",
       "      <td>Gd</td>\n",
       "      <td>1262</td>\n",
       "      <td>Ex</td>\n",
       "      <td>1262</td>\n",
       "      <td>0</td>\n",
       "      <td>1262</td>\n",
       "      <td>TA</td>\n",
       "      <td>6</td>\n",
       "      <td>1976.0</td>\n",
       "      <td>2</td>\n",
       "      <td>460</td>\n",
       "      <td>Y</td>\n",
       "    </tr>\n",
       "    <tr>\n",
       "      <th>2</th>\n",
       "      <td>68.0</td>\n",
       "      <td>7</td>\n",
       "      <td>Gd</td>\n",
       "      <td>920</td>\n",
       "      <td>Ex</td>\n",
       "      <td>920</td>\n",
       "      <td>866</td>\n",
       "      <td>1786</td>\n",
       "      <td>Gd</td>\n",
       "      <td>6</td>\n",
       "      <td>2001.0</td>\n",
       "      <td>2</td>\n",
       "      <td>608</td>\n",
       "      <td>Y</td>\n",
       "    </tr>\n",
       "    <tr>\n",
       "      <th>3</th>\n",
       "      <td>60.0</td>\n",
       "      <td>7</td>\n",
       "      <td>TA</td>\n",
       "      <td>756</td>\n",
       "      <td>Gd</td>\n",
       "      <td>961</td>\n",
       "      <td>756</td>\n",
       "      <td>1717</td>\n",
       "      <td>Gd</td>\n",
       "      <td>7</td>\n",
       "      <td>1998.0</td>\n",
       "      <td>3</td>\n",
       "      <td>642</td>\n",
       "      <td>Y</td>\n",
       "    </tr>\n",
       "    <tr>\n",
       "      <th>4</th>\n",
       "      <td>84.0</td>\n",
       "      <td>8</td>\n",
       "      <td>Gd</td>\n",
       "      <td>1145</td>\n",
       "      <td>Ex</td>\n",
       "      <td>1145</td>\n",
       "      <td>1053</td>\n",
       "      <td>2198</td>\n",
       "      <td>Gd</td>\n",
       "      <td>9</td>\n",
       "      <td>2000.0</td>\n",
       "      <td>3</td>\n",
       "      <td>836</td>\n",
       "      <td>Y</td>\n",
       "    </tr>\n",
       "  </tbody>\n",
       "</table>\n",
       "</div>"
      ],
      "text/plain": [
       "   LotFrontage  OverallQual BsmtQual  TotalBsmtSF HeatingQC  1stFlrSF  \\\n",
       "0         65.0            7       Gd          856        Ex       856   \n",
       "1         80.0            6       Gd         1262        Ex      1262   \n",
       "2         68.0            7       Gd          920        Ex       920   \n",
       "3         60.0            7       TA          756        Gd       961   \n",
       "4         84.0            8       Gd         1145        Ex      1145   \n",
       "\n",
       "   2ndFlrSF  GrLivArea KitchenQual  TotRmsAbvGrd  GarageYrBlt  GarageCars  \\\n",
       "0       854       1710          Gd             8       2003.0           2   \n",
       "1         0       1262          TA             6       1976.0           2   \n",
       "2       866       1786          Gd             6       2001.0           2   \n",
       "3       756       1717          Gd             7       1998.0           3   \n",
       "4      1053       2198          Gd             9       2000.0           3   \n",
       "\n",
       "   GarageArea PavedDrive  \n",
       "0         548          Y  \n",
       "1         460          Y  \n",
       "2         608          Y  \n",
       "3         642          Y  \n",
       "4         836          Y  "
      ]
     },
     "execution_count": 58,
     "metadata": {},
     "output_type": "execute_result"
    }
   ],
   "source": [
    "train.head()"
   ]
  },
  {
   "cell_type": "code",
   "execution_count": 61,
   "id": "56cf2a0d",
   "metadata": {},
   "outputs": [
    {
     "data": {
      "text/plain": [
       "Ex    741\n",
       "TA    428\n",
       "Gd    241\n",
       "Fa     49\n",
       "Po      1\n",
       "Name: HeatingQC, dtype: int64"
      ]
     },
     "execution_count": 61,
     "metadata": {},
     "output_type": "execute_result"
    }
   ],
   "source": [
    "train['HeatingQC'].value_counts()"
   ]
  },
  {
   "cell_type": "code",
   "execution_count": 8,
   "id": "7882327d",
   "metadata": {},
   "outputs": [],
   "source": [
    "dic = {'Ex' : 4, 'Gd' : 3, 'TA' : 2, 'Fa' : 1, 'Po' : 0}"
   ]
  },
  {
   "cell_type": "code",
   "execution_count": 9,
   "id": "5ee767ef",
   "metadata": {},
   "outputs": [],
   "source": [
    "train['BsmtQual'] = train['BsmtQual'].map(dic)\n",
    "train['HeatingQC'] = train['HeatingQC'].map(dic)\n",
    "train['KitchenQual'] = train['KitchenQual'].map(dic)\n",
    "train = train[['LotFrontage', 'OverallQual', 'BsmtQual', 'TotalBsmtSF', 'HeatingQC', '1stFlrSF',\n",
    "       '2ndFlrSF', 'GrLivArea', 'KitchenQual', 'TotRmsAbvGrd', 'GarageYrBlt', 'GarageCars',\n",
    "       'GarageArea', 'PavedDrive', 'SalePrice']]\n",
    "paved = pd.get_dummies(train['PavedDrive'], drop_first=True)\n",
    "train = pd.concat([train.drop('PavedDrive', axis=1), paved], axis=1)"
   ]
  },
  {
   "cell_type": "code",
   "execution_count": 52,
   "id": "1c0cbf06",
   "metadata": {},
   "outputs": [
    {
     "data": {
      "text/html": [
       "<div>\n",
       "<style scoped>\n",
       "    .dataframe tbody tr th:only-of-type {\n",
       "        vertical-align: middle;\n",
       "    }\n",
       "\n",
       "    .dataframe tbody tr th {\n",
       "        vertical-align: top;\n",
       "    }\n",
       "\n",
       "    .dataframe thead th {\n",
       "        text-align: right;\n",
       "    }\n",
       "</style>\n",
       "<table border=\"1\" class=\"dataframe\">\n",
       "  <thead>\n",
       "    <tr style=\"text-align: right;\">\n",
       "      <th></th>\n",
       "      <th>LotFrontage</th>\n",
       "      <th>OverallQual</th>\n",
       "      <th>BsmtQual</th>\n",
       "      <th>TotalBsmtSF</th>\n",
       "      <th>HeatingQC</th>\n",
       "      <th>1stFlrSF</th>\n",
       "      <th>2ndFlrSF</th>\n",
       "      <th>GrLivArea</th>\n",
       "      <th>KitchenQual</th>\n",
       "      <th>TotRmsAbvGrd</th>\n",
       "      <th>GarageYrBlt</th>\n",
       "      <th>GarageCars</th>\n",
       "      <th>GarageArea</th>\n",
       "      <th>SalePrice</th>\n",
       "      <th>P</th>\n",
       "      <th>Y</th>\n",
       "    </tr>\n",
       "  </thead>\n",
       "  <tbody>\n",
       "    <tr>\n",
       "      <th>0</th>\n",
       "      <td>65.0</td>\n",
       "      <td>7</td>\n",
       "      <td>3.0</td>\n",
       "      <td>856</td>\n",
       "      <td>4</td>\n",
       "      <td>856</td>\n",
       "      <td>854</td>\n",
       "      <td>1710</td>\n",
       "      <td>3</td>\n",
       "      <td>8</td>\n",
       "      <td>2003.0</td>\n",
       "      <td>2</td>\n",
       "      <td>548</td>\n",
       "      <td>208500</td>\n",
       "      <td>0</td>\n",
       "      <td>1</td>\n",
       "    </tr>\n",
       "    <tr>\n",
       "      <th>1</th>\n",
       "      <td>80.0</td>\n",
       "      <td>6</td>\n",
       "      <td>3.0</td>\n",
       "      <td>1262</td>\n",
       "      <td>4</td>\n",
       "      <td>1262</td>\n",
       "      <td>0</td>\n",
       "      <td>1262</td>\n",
       "      <td>2</td>\n",
       "      <td>6</td>\n",
       "      <td>1976.0</td>\n",
       "      <td>2</td>\n",
       "      <td>460</td>\n",
       "      <td>181500</td>\n",
       "      <td>0</td>\n",
       "      <td>1</td>\n",
       "    </tr>\n",
       "    <tr>\n",
       "      <th>2</th>\n",
       "      <td>68.0</td>\n",
       "      <td>7</td>\n",
       "      <td>3.0</td>\n",
       "      <td>920</td>\n",
       "      <td>4</td>\n",
       "      <td>920</td>\n",
       "      <td>866</td>\n",
       "      <td>1786</td>\n",
       "      <td>3</td>\n",
       "      <td>6</td>\n",
       "      <td>2001.0</td>\n",
       "      <td>2</td>\n",
       "      <td>608</td>\n",
       "      <td>223500</td>\n",
       "      <td>0</td>\n",
       "      <td>1</td>\n",
       "    </tr>\n",
       "    <tr>\n",
       "      <th>3</th>\n",
       "      <td>60.0</td>\n",
       "      <td>7</td>\n",
       "      <td>2.0</td>\n",
       "      <td>756</td>\n",
       "      <td>3</td>\n",
       "      <td>961</td>\n",
       "      <td>756</td>\n",
       "      <td>1717</td>\n",
       "      <td>3</td>\n",
       "      <td>7</td>\n",
       "      <td>1998.0</td>\n",
       "      <td>3</td>\n",
       "      <td>642</td>\n",
       "      <td>140000</td>\n",
       "      <td>0</td>\n",
       "      <td>1</td>\n",
       "    </tr>\n",
       "    <tr>\n",
       "      <th>4</th>\n",
       "      <td>84.0</td>\n",
       "      <td>8</td>\n",
       "      <td>3.0</td>\n",
       "      <td>1145</td>\n",
       "      <td>4</td>\n",
       "      <td>1145</td>\n",
       "      <td>1053</td>\n",
       "      <td>2198</td>\n",
       "      <td>3</td>\n",
       "      <td>9</td>\n",
       "      <td>2000.0</td>\n",
       "      <td>3</td>\n",
       "      <td>836</td>\n",
       "      <td>250000</td>\n",
       "      <td>0</td>\n",
       "      <td>1</td>\n",
       "    </tr>\n",
       "  </tbody>\n",
       "</table>\n",
       "</div>"
      ],
      "text/plain": [
       "   LotFrontage  OverallQual  BsmtQual  TotalBsmtSF  HeatingQC  1stFlrSF  \\\n",
       "0         65.0            7       3.0          856          4       856   \n",
       "1         80.0            6       3.0         1262          4      1262   \n",
       "2         68.0            7       3.0          920          4       920   \n",
       "3         60.0            7       2.0          756          3       961   \n",
       "4         84.0            8       3.0         1145          4      1145   \n",
       "\n",
       "   2ndFlrSF  GrLivArea  KitchenQual  TotRmsAbvGrd  GarageYrBlt  GarageCars  \\\n",
       "0       854       1710            3             8       2003.0           2   \n",
       "1         0       1262            2             6       1976.0           2   \n",
       "2       866       1786            3             6       2001.0           2   \n",
       "3       756       1717            3             7       1998.0           3   \n",
       "4      1053       2198            3             9       2000.0           3   \n",
       "\n",
       "   GarageArea  SalePrice  P  Y  \n",
       "0         548     208500  0  1  \n",
       "1         460     181500  0  1  \n",
       "2         608     223500  0  1  \n",
       "3         642     140000  0  1  \n",
       "4         836     250000  0  1  "
      ]
     },
     "execution_count": 52,
     "metadata": {},
     "output_type": "execute_result"
    }
   ],
   "source": [
    "train.head()"
   ]
  },
  {
   "cell_type": "code",
   "execution_count": 11,
   "id": "e9538bb1",
   "metadata": {
    "scrolled": true
   },
   "outputs": [
    {
     "data": {
      "text/plain": [
       "<AxesSubplot:>"
      ]
     },
     "execution_count": 11,
     "metadata": {},
     "output_type": "execute_result"
    },
    {
     "data": {
      "image/png": "[encoded data removed]",
      "text/plain": [
       "<Figure size 864x864 with 2 Axes>"
      ]
     },
     "metadata": {},
     "output_type": "display_data"
    }
   ],
   "source": [
    "plt.figure(figsize=(12,12))\n",
    "sns.heatmap(pd.isna(train))"
   ]
  },
  {
   "cell_type": "code",
   "execution_count": 97,
   "id": "75d07023",
   "metadata": {},
   "outputs": [
    {
     "data": {
      "text/plain": [
       "181620.07335907337"
      ]
     },
     "execution_count": 97,
     "metadata": {},
     "output_type": "execute_result"
    }
   ],
   "source": [
    "train[pd.isna(train['LotFrontage'])]['SalePrice'].mean()"
   ]
  },
  {
   "cell_type": "code",
   "execution_count": 13,
   "id": "568e7f26",
   "metadata": {},
   "outputs": [
    {
     "data": {
      "text/plain": [
       "70.04995836802665"
      ]
     },
     "execution_count": 13,
     "metadata": {},
     "output_type": "execute_result"
    }
   ],
   "source": [
    "train['LotFrontage'].mean()"
   ]
  },
  {
   "cell_type": "code",
   "execution_count": 91,
   "id": "c9e928d0",
   "metadata": {},
   "outputs": [],
   "source": [
    "#70 em train, 68 em test\n",
    "def inputa_Frontage(x):\n",
    "    if pd.isna(x):\n",
    "        return 68\n",
    "    else:\n",
    "        return x"
   ]
  },
  {
   "cell_type": "code",
   "execution_count": 16,
   "id": "817e95c5",
   "metadata": {},
   "outputs": [],
   "source": [
    "train['LotFrontage'] = train['LotFrontage'].apply(inputa_Frontage)"
   ]
  },
  {
   "cell_type": "code",
   "execution_count": 20,
   "id": "e31c0905",
   "metadata": {},
   "outputs": [
    {
     "data": {
      "text/plain": [
       "<AxesSubplot:xlabel='LotFrontage', ylabel='BsmtQual'>"
      ]
     },
     "execution_count": 20,
     "metadata": {},
     "output_type": "execute_result"
    },
    {
     "data": {
      "image/png": "[encoded data removed]",
      "text/plain": [
       "<Figure size 432x288 with 1 Axes>"
      ]
     },
     "metadata": {},
     "output_type": "display_data"
    }
   ],
   "source": [
    "sns.scatterplot(x='LotFrontage', y='BsmtQual', data=train)"
   ]
  },
  {
   "cell_type": "code",
   "execution_count": 28,
   "id": "3cf7040d",
   "metadata": {},
   "outputs": [
    {
     "name": "stdout",
     "output_type": "stream",
     "text": [
      "Basement N:  105652.8918918919\n",
      "Basement 1:  115692.02857142857\n",
      "Basement 2:  140759.81818181818\n",
      "Basement 3:  202688.4789644013\n",
      "Basement 4:  327041.04132231406\n"
     ]
    }
   ],
   "source": [
    "print('Basement N: ', train[pd.isna(train['BsmtQual'])]['SalePrice'].mean())\n",
    "print('Basement 1: ', train[train['BsmtQual'] == 1]['SalePrice'].mean())\n",
    "print('Basement 2: ', train[train['BsmtQual'] == 2]['SalePrice'].mean())\n",
    "print('Basement 3: ', train[train['BsmtQual'] == 3]['SalePrice'].mean())\n",
    "print('Basement 4: ', train[train['BsmtQual'] == 4]['SalePrice'].mean())"
   ]
  },
  {
   "cell_type": "code",
   "execution_count": 29,
   "id": "2201da13",
   "metadata": {},
   "outputs": [],
   "source": [
    "def inputa_Basement(x):\n",
    "    if pd.isna(x):\n",
    "        return 0\n",
    "    else:\n",
    "        return x"
   ]
  },
  {
   "cell_type": "code",
   "execution_count": 30,
   "id": "505944ad",
   "metadata": {},
   "outputs": [],
   "source": [
    "train['BsmtQual'] = train['BsmtQual'].apply(inputa_Basement)"
   ]
  },
  {
   "cell_type": "code",
   "execution_count": 32,
   "id": "8cb5b6ca",
   "metadata": {},
   "outputs": [
    {
     "data": {
      "text/plain": [
       "1978.5061638868744"
      ]
     },
     "execution_count": 32,
     "metadata": {},
     "output_type": "execute_result"
    }
   ],
   "source": [
    "train['GarageYrBlt'].mean()"
   ]
  },
  {
   "cell_type": "code",
   "execution_count": 35,
   "id": "180a35f5",
   "metadata": {},
   "outputs": [
    {
     "data": {
      "text/plain": [
       "180921.19589041095"
      ]
     },
     "execution_count": 35,
     "metadata": {},
     "output_type": "execute_result"
    }
   ],
   "source": [
    "train['SalePrice'].mean()"
   ]
  },
  {
   "cell_type": "code",
   "execution_count": 37,
   "id": "4818f71d",
   "metadata": {},
   "outputs": [
    {
     "data": {
      "text/plain": [
       "103317.28395061729"
      ]
     },
     "execution_count": 37,
     "metadata": {},
     "output_type": "execute_result"
    }
   ],
   "source": [
    "train[pd.isna(train['GarageYrBlt'])]['SalePrice'].mean()"
   ]
  },
  {
   "cell_type": "code",
   "execution_count": 54,
   "id": "079ae74a",
   "metadata": {},
   "outputs": [],
   "source": [
    "def inputa_Garage(x):\n",
    "    if pd.isna(x):\n",
    "        return 0\n",
    "    else:\n",
    "        return x"
   ]
  },
  {
   "cell_type": "code",
   "execution_count": 55,
   "id": "b64b43a0",
   "metadata": {},
   "outputs": [],
   "source": [
    "train['GarageYrBlt'] = train['GarageYrBlt'].apply(inputa_Garage)"
   ]
  },
  {
   "cell_type": "code",
   "execution_count": 56,
   "id": "e16411d2",
   "metadata": {},
   "outputs": [
    {
     "data": {
      "text/plain": [
       "<AxesSubplot:>"
      ]
     },
     "execution_count": 56,
     "metadata": {},
     "output_type": "execute_result"
    },
    {
     "data": {
      "image/png": "[encoded data removed]",
      "text/plain": [
       "<Figure size 432x288 with 2 Axes>"
      ]
     },
     "metadata": {},
     "output_type": "display_data"
    }
   ],
   "source": [
    "sns.heatmap(pd.isna(train))"
   ]
  },
  {
   "cell_type": "code",
   "execution_count": 57,
   "id": "bde0b32b",
   "metadata": {},
   "outputs": [],
   "source": [
    "from sklearn.model_selection import train_test_split\n",
    "from sklearn.linear_model import LinearRegression\n",
    "from sklearn import metrics"
   ]
  },
  {
   "cell_type": "code",
   "execution_count": 76,
   "id": "56e0e041",
   "metadata": {},
   "outputs": [],
   "source": [
    "x_train, x_test, y_train, y_test = train_test_split(train.drop('SalePrice', axis=1), train['SalePrice'], test_size=0.3)"
   ]
  },
  {
   "cell_type": "code",
   "execution_count": 77,
   "id": "127d4469",
   "metadata": {},
   "outputs": [],
   "source": [
    "lm = LinearRegression()"
   ]
  },
  {
   "cell_type": "code",
   "execution_count": 78,
   "id": "79855f1f",
   "metadata": {},
   "outputs": [
    {
     "data": {
      "text/plain": [
       "LinearRegression()"
      ]
     },
     "execution_count": 78,
     "metadata": {},
     "output_type": "execute_result"
    }
   ],
   "source": [
    "lm.fit(x_train, y_train)"
   ]
  },
  {
   "cell_type": "code",
   "execution_count": 98,
   "id": "e96dd558",
   "metadata": {},
   "outputs": [],
   "source": [
    "predict = lm.predict(x_test)"
   ]
  },
  {
   "cell_type": "code",
   "execution_count": 99,
   "id": "fc3410ef",
   "metadata": {},
   "outputs": [
    {
     "data": {
      "text/plain": [
       "<AxesSubplot:xlabel='SalePrice'>"
      ]
     },
     "execution_count": 99,
     "metadata": {},
     "output_type": "execute_result"
    },
    {
     "data": {
      "image/png": "[encoded data removed]",
      "text/plain": [
       "<Figure size 432x288 with 1 Axes>"
      ]
     },
     "metadata": {},
     "output_type": "display_data"
    }
   ],
   "source": [
    "sns.scatterplot(x=y_test, y=predict)"
   ]
  },
  {
   "cell_type": "code",
   "execution_count": 100,
   "id": "88037634",
   "metadata": {},
   "outputs": [
    {
     "data": {
      "text/plain": [
       "29845.55341422943"
      ]
     },
     "execution_count": 100,
     "metadata": {},
     "output_type": "execute_result"
    }
   ],
   "source": [
    "np.sqrt(metrics.mean_squared_error(y_test, predict))"
   ]
  },
  {
   "cell_type": "code",
   "execution_count": 95,
   "id": "ea7474a1",
   "metadata": {},
   "outputs": [],
   "source": [
    "test = pd.read_csv('test.csv')"
   ]
  },
  {
   "cell_type": "code",
   "execution_count": 89,
   "id": "418068bb",
   "metadata": {},
   "outputs": [
    {
     "data": {
      "text/plain": [
       "68.58035714285714"
      ]
     },
     "execution_count": 89,
     "metadata": {},
     "output_type": "execute_result"
    }
   ],
   "source": [
    "test['LotFrontage'].mean()"
   ]
  },
  {
   "cell_type": "code",
   "execution_count": 96,
   "id": "076f3a4f",
   "metadata": {},
   "outputs": [],
   "source": [
    "test['BsmtQual'] = test['BsmtQual'].map(dic)\n",
    "test['HeatingQC'] = test['HeatingQC'].map(dic)\n",
    "test['KitchenQual'] = test['KitchenQual'].map(dic)\n",
    "test = test[['LotFrontage', 'OverallQual', 'BsmtQual', 'TotalBsmtSF', 'HeatingQC', '1stFlrSF',\n",
    "       '2ndFlrSF', 'GrLivArea', 'KitchenQual', 'TotRmsAbvGrd', 'GarageYrBlt', 'GarageCars',\n",
    "       'GarageArea', 'PavedDrive']]\n",
    "paved = pd.get_dummies(test['PavedDrive'], drop_first=True)\n",
    "test = pd.concat([test.drop('PavedDrive', axis=1), paved], axis=1)\n",
    "test['LotFrontage'] = test['LotFrontage'].apply(inputa_Frontage)\n",
    "test['BsmtQual'] = test['BsmtQual'].apply(inputa_Basement)\n",
    "test['GarageYrBlt'] = test['GarageYrBlt'].apply(inputa_Garage)"
   ]
  },
  {
   "cell_type": "code",
   "execution_count": 97,
   "id": "95f47a54",
   "metadata": {},
   "outputs": [
    {
     "data": {
      "text/html": [
       "<div>\n",
       "<style scoped>\n",
       "    .dataframe tbody tr th:only-of-type {\n",
       "        vertical-align: middle;\n",
       "    }\n",
       "\n",
       "    .dataframe tbody tr th {\n",
       "        vertical-align: top;\n",
       "    }\n",
       "\n",
       "    .dataframe thead th {\n",
       "        text-align: right;\n",
       "    }\n",
       "</style>\n",
       "<table border=\"1\" class=\"dataframe\">\n",
       "  <thead>\n",
       "    <tr style=\"text-align: right;\">\n",
       "      <th></th>\n",
       "      <th>LotFrontage</th>\n",
       "      <th>OverallQual</th>\n",
       "      <th>BsmtQual</th>\n",
       "      <th>TotalBsmtSF</th>\n",
       "      <th>HeatingQC</th>\n",
       "      <th>1stFlrSF</th>\n",
       "      <th>2ndFlrSF</th>\n",
       "      <th>GrLivArea</th>\n",
       "      <th>KitchenQual</th>\n",
       "      <th>TotRmsAbvGrd</th>\n",
       "      <th>GarageYrBlt</th>\n",
       "      <th>GarageCars</th>\n",
       "      <th>GarageArea</th>\n",
       "      <th>P</th>\n",
       "      <th>Y</th>\n",
       "    </tr>\n",
       "  </thead>\n",
       "  <tbody>\n",
       "    <tr>\n",
       "      <th>0</th>\n",
       "      <td>80.0</td>\n",
       "      <td>5</td>\n",
       "      <td>2.0</td>\n",
       "      <td>882.0</td>\n",
       "      <td>2</td>\n",
       "      <td>896</td>\n",
       "      <td>0</td>\n",
       "      <td>896</td>\n",
       "      <td>2.0</td>\n",
       "      <td>5</td>\n",
       "      <td>1961.0</td>\n",
       "      <td>1.0</td>\n",
       "      <td>730.0</td>\n",
       "      <td>0</td>\n",
       "      <td>1</td>\n",
       "    </tr>\n",
       "    <tr>\n",
       "      <th>1</th>\n",
       "      <td>81.0</td>\n",
       "      <td>6</td>\n",
       "      <td>2.0</td>\n",
       "      <td>1329.0</td>\n",
       "      <td>2</td>\n",
       "      <td>1329</td>\n",
       "      <td>0</td>\n",
       "      <td>1329</td>\n",
       "      <td>3.0</td>\n",
       "      <td>6</td>\n",
       "      <td>1958.0</td>\n",
       "      <td>1.0</td>\n",
       "      <td>312.0</td>\n",
       "      <td>0</td>\n",
       "      <td>1</td>\n",
       "    </tr>\n",
       "    <tr>\n",
       "      <th>2</th>\n",
       "      <td>74.0</td>\n",
       "      <td>5</td>\n",
       "      <td>3.0</td>\n",
       "      <td>928.0</td>\n",
       "      <td>3</td>\n",
       "      <td>928</td>\n",
       "      <td>701</td>\n",
       "      <td>1629</td>\n",
       "      <td>2.0</td>\n",
       "      <td>6</td>\n",
       "      <td>1997.0</td>\n",
       "      <td>2.0</td>\n",
       "      <td>482.0</td>\n",
       "      <td>0</td>\n",
       "      <td>1</td>\n",
       "    </tr>\n",
       "    <tr>\n",
       "      <th>3</th>\n",
       "      <td>78.0</td>\n",
       "      <td>6</td>\n",
       "      <td>2.0</td>\n",
       "      <td>926.0</td>\n",
       "      <td>4</td>\n",
       "      <td>926</td>\n",
       "      <td>678</td>\n",
       "      <td>1604</td>\n",
       "      <td>3.0</td>\n",
       "      <td>7</td>\n",
       "      <td>1998.0</td>\n",
       "      <td>2.0</td>\n",
       "      <td>470.0</td>\n",
       "      <td>0</td>\n",
       "      <td>1</td>\n",
       "    </tr>\n",
       "    <tr>\n",
       "      <th>4</th>\n",
       "      <td>43.0</td>\n",
       "      <td>8</td>\n",
       "      <td>3.0</td>\n",
       "      <td>1280.0</td>\n",
       "      <td>4</td>\n",
       "      <td>1280</td>\n",
       "      <td>0</td>\n",
       "      <td>1280</td>\n",
       "      <td>3.0</td>\n",
       "      <td>5</td>\n",
       "      <td>1992.0</td>\n",
       "      <td>2.0</td>\n",
       "      <td>506.0</td>\n",
       "      <td>0</td>\n",
       "      <td>1</td>\n",
       "    </tr>\n",
       "  </tbody>\n",
       "</table>\n",
       "</div>"
      ],
      "text/plain": [
       "   LotFrontage  OverallQual  BsmtQual  TotalBsmtSF  HeatingQC  1stFlrSF  \\\n",
       "0         80.0            5       2.0        882.0          2       896   \n",
       "1         81.0            6       2.0       1329.0          2      1329   \n",
       "2         74.0            5       3.0        928.0          3       928   \n",
       "3         78.0            6       2.0        926.0          4       926   \n",
       "4         43.0            8       3.0       1280.0          4      1280   \n",
       "\n",
       "   2ndFlrSF  GrLivArea  KitchenQual  TotRmsAbvGrd  GarageYrBlt  GarageCars  \\\n",
       "0         0        896          2.0             5       1961.0         1.0   \n",
       "1         0       1329          3.0             6       1958.0         1.0   \n",
       "2       701       1629          2.0             6       1997.0         2.0   \n",
       "3       678       1604          3.0             7       1998.0         2.0   \n",
       "4         0       1280          3.0             5       1992.0         2.0   \n",
       "\n",
       "   GarageArea  P  Y  \n",
       "0       730.0  0  1  \n",
       "1       312.0  0  1  \n",
       "2       482.0  0  1  \n",
       "3       470.0  0  1  \n",
       "4       506.0  0  1  "
      ]
     },
     "execution_count": 97,
     "metadata": {},
     "output_type": "execute_result"
    }
   ],
   "source": [
    "test.head()"
   ]
  },
  {
   "cell_type": "code",
   "execution_count": 104,
   "id": "6995936e",
   "metadata": {},
   "outputs": [
    {
     "data": {
      "text/plain": [
       "<AxesSubplot:>"
      ]
     },
     "execution_count": 104,
     "metadata": {},
     "output_type": "execute_result"
    },
    {
     "data": {
      "image/png": "[encoded data removed]",
      "text/plain": [
       "<Figure size 720x1080 with 2 Axes>"
      ]
     },
     "metadata": {},
     "output_type": "display_data"
    }
   ],
   "source": [
    "plt.figure(figsize=(10,15))\n",
    "sns.heatmap(pd.isna(test))"
   ]
  },
  {
   "cell_type": "code",
   "execution_count": 108,
   "id": "4350235f",
   "metadata": {},
   "outputs": [
    {
     "data": {
      "text/plain": [
       "LotFrontage       50.0\n",
       "OverallQual        5.0\n",
       "BsmtQual           3.0\n",
       "TotalBsmtSF      859.0\n",
       "HeatingQC          4.0\n",
       "1stFlrSF         942.0\n",
       "2ndFlrSF         886.0\n",
       "GrLivArea       1828.0\n",
       "KitchenQual        3.0\n",
       "TotRmsAbvGrd       6.0\n",
       "GarageYrBlt        0.0\n",
       "GarageCars         0.0\n",
       "GarageArea         0.0\n",
       "P                  0.0\n",
       "Y                  1.0\n",
       "Name: 1116, dtype: float64"
      ]
     },
     "execution_count": 108,
     "metadata": {},
     "output_type": "execute_result"
    }
   ],
   "source": [
    "test.iloc[1116]"
   ]
  },
  {
   "cell_type": "code",
   "execution_count": 107,
   "id": "bc0324a9",
   "metadata": {},
   "outputs": [],
   "source": [
    "test['GarageCars'] = test['GarageCars'].apply(inputa_Garage)\n",
    "test['GarageArea'] = test['GarageArea'].apply(inputa_Garage)"
   ]
  },
  {
   "cell_type": "code",
   "execution_count": 124,
   "id": "71171322",
   "metadata": {},
   "outputs": [
    {
     "data": {
      "text/plain": [
       "1046.1179698216736"
      ]
     },
     "execution_count": 124,
     "metadata": {},
     "output_type": "execute_result"
    }
   ],
   "source": [
    "test['TotalBsmtSF'].mean()"
   ]
  },
  {
   "cell_type": "code",
   "execution_count": 126,
   "id": "56d295b5",
   "metadata": {},
   "outputs": [
    {
     "data": {
      "text/plain": [
       "105652.8918918919"
      ]
     },
     "execution_count": 126,
     "metadata": {},
     "output_type": "execute_result"
    }
   ],
   "source": [
    "train[train['TotalBsmtSF'] == 0]['SalePrice'].mean()"
   ]
  },
  {
   "cell_type": "code",
   "execution_count": 127,
   "id": "3d168228",
   "metadata": {},
   "outputs": [
    {
     "data": {
      "text/plain": [
       "180921.19589041095"
      ]
     },
     "execution_count": 127,
     "metadata": {},
     "output_type": "execute_result"
    }
   ],
   "source": [
    "train['SalePrice'].mean()"
   ]
  },
  {
   "cell_type": "code",
   "execution_count": 128,
   "id": "25d18d3b",
   "metadata": {},
   "outputs": [],
   "source": [
    "test['TotalBsmtSF'] = test['TotalBsmtSF'].apply(inputa_Basement)"
   ]
  },
  {
   "cell_type": "code",
   "execution_count": 116,
   "id": "f40baeb3",
   "metadata": {},
   "outputs": [],
   "source": []
  },
  {
   "cell_type": "code",
   "execution_count": 132,
   "id": "c78d78f2",
   "metadata": {},
   "outputs": [
    {
     "name": "stdout",
     "output_type": "stream",
     "text": [
      "Cozinha 1:  105565.20512820513\n",
      "Cozinha 2:  139962.51156462586\n",
      "Cozinha 3:  212116.02389078497\n",
      "Cozinha 4:  328554.67\n"
     ]
    }
   ],
   "source": [
    "print('Cozinha 1: ',train[train['KitchenQual'] == 1]['SalePrice'].mean())\n",
    "print('Cozinha 2: ',train[train['KitchenQual'] == 2]['SalePrice'].mean())\n",
    "print('Cozinha 3: ',train[train['KitchenQual'] == 3]['SalePrice'].mean())\n",
    "print('Cozinha 4: ',train[train['KitchenQual'] == 4]['SalePrice'].mean())"
   ]
  },
  {
   "cell_type": "code",
   "execution_count": 133,
   "id": "51a11dc9",
   "metadata": {},
   "outputs": [
    {
     "data": {
      "text/plain": [
       "2    735\n",
       "3    586\n",
       "4    100\n",
       "1     39\n",
       "Name: KitchenQual, dtype: int64"
      ]
     },
     "execution_count": 133,
     "metadata": {},
     "output_type": "execute_result"
    }
   ],
   "source": [
    "train['KitchenQual'].value_counts()"
   ]
  },
  {
   "cell_type": "code",
   "execution_count": 134,
   "id": "9cabe0b6",
   "metadata": {},
   "outputs": [
    {
     "data": {
      "text/html": [
       "<div>\n",
       "<style scoped>\n",
       "    .dataframe tbody tr th:only-of-type {\n",
       "        vertical-align: middle;\n",
       "    }\n",
       "\n",
       "    .dataframe tbody tr th {\n",
       "        vertical-align: top;\n",
       "    }\n",
       "\n",
       "    .dataframe thead th {\n",
       "        text-align: right;\n",
       "    }\n",
       "</style>\n",
       "<table border=\"1\" class=\"dataframe\">\n",
       "  <thead>\n",
       "    <tr style=\"text-align: right;\">\n",
       "      <th></th>\n",
       "      <th>Id</th>\n",
       "      <th>MSSubClass</th>\n",
       "      <th>MSZoning</th>\n",
       "      <th>LotFrontage</th>\n",
       "      <th>LotArea</th>\n",
       "      <th>Street</th>\n",
       "      <th>Alley</th>\n",
       "      <th>LotShape</th>\n",
       "      <th>LandContour</th>\n",
       "      <th>Utilities</th>\n",
       "      <th>...</th>\n",
       "      <th>ScreenPorch</th>\n",
       "      <th>PoolArea</th>\n",
       "      <th>PoolQC</th>\n",
       "      <th>Fence</th>\n",
       "      <th>MiscFeature</th>\n",
       "      <th>MiscVal</th>\n",
       "      <th>MoSold</th>\n",
       "      <th>YrSold</th>\n",
       "      <th>SaleType</th>\n",
       "      <th>SaleCondition</th>\n",
       "    </tr>\n",
       "  </thead>\n",
       "  <tbody>\n",
       "    <tr>\n",
       "      <th>95</th>\n",
       "      <td>1556</td>\n",
       "      <td>50</td>\n",
       "      <td>RL</td>\n",
       "      <td>72.0</td>\n",
       "      <td>10632</td>\n",
       "      <td>Pave</td>\n",
       "      <td>NaN</td>\n",
       "      <td>IR1</td>\n",
       "      <td>Lvl</td>\n",
       "      <td>AllPub</td>\n",
       "      <td>...</td>\n",
       "      <td>0</td>\n",
       "      <td>0</td>\n",
       "      <td>NaN</td>\n",
       "      <td>NaN</td>\n",
       "      <td>NaN</td>\n",
       "      <td>0</td>\n",
       "      <td>1</td>\n",
       "      <td>2010</td>\n",
       "      <td>COD</td>\n",
       "      <td>Normal</td>\n",
       "    </tr>\n",
       "  </tbody>\n",
       "</table>\n",
       "<p>1 rows × 80 columns</p>\n",
       "</div>"
      ],
      "text/plain": [
       "      Id  MSSubClass MSZoning  LotFrontage  LotArea Street Alley LotShape  \\\n",
       "95  1556          50       RL         72.0    10632   Pave   NaN      IR1   \n",
       "\n",
       "   LandContour Utilities  ... ScreenPorch PoolArea PoolQC Fence MiscFeature  \\\n",
       "95         Lvl    AllPub  ...           0        0    NaN   NaN         NaN   \n",
       "\n",
       "   MiscVal MoSold  YrSold  SaleType  SaleCondition  \n",
       "95       0      1    2010       COD         Normal  \n",
       "\n",
       "[1 rows x 80 columns]"
      ]
     },
     "execution_count": 134,
     "metadata": {},
     "output_type": "execute_result"
    }
   ],
   "source": [
    "aux[pd.isna(aux['KitchenQual'])]"
   ]
  },
  {
   "cell_type": "code",
   "execution_count": 136,
   "id": "67d55e16",
   "metadata": {},
   "outputs": [],
   "source": [
    "aux2 = pd.read_csv('train.csv')"
   ]
  },
  {
   "cell_type": "code",
   "execution_count": 137,
   "id": "dd5ebc0b",
   "metadata": {},
   "outputs": [
    {
     "data": {
      "text/plain": [
       "Index(['Id', 'MSSubClass', 'MSZoning', 'LotFrontage', 'LotArea', 'Street',\n",
       "       'Alley', 'LotShape', 'LandContour', 'Utilities', 'LotConfig',\n",
       "       'LandSlope', 'Neighborhood', 'Condition1', 'Condition2', 'BldgType',\n",
       "       'HouseStyle', 'OverallQual', 'OverallCond', 'YearBuilt', 'YearRemodAdd',\n",
       "       'RoofStyle', 'RoofMatl', 'Exterior1st', 'Exterior2nd', 'MasVnrType',\n",
       "       'MasVnrArea', 'ExterQual', 'ExterCond', 'Foundation', 'BsmtQual',\n",
       "       'BsmtCond', 'BsmtExposure', 'BsmtFinType1', 'BsmtFinSF1',\n",
       "       'BsmtFinType2', 'BsmtFinSF2', 'BsmtUnfSF', 'TotalBsmtSF', 'Heating',\n",
       "       'HeatingQC', 'CentralAir', 'Electrical', '1stFlrSF', '2ndFlrSF',\n",
       "       'LowQualFinSF', 'GrLivArea', 'BsmtFullBath', 'BsmtHalfBath', 'FullBath',\n",
       "       'HalfBath', 'BedroomAbvGr', 'KitchenAbvGr', 'KitchenQual',\n",
       "       'TotRmsAbvGrd', 'Functional', 'Fireplaces', 'FireplaceQu', 'GarageType',\n",
       "       'GarageYrBlt', 'GarageFinish', 'GarageCars', 'GarageArea', 'GarageQual',\n",
       "       'GarageCond', 'PavedDrive', 'WoodDeckSF', 'OpenPorchSF',\n",
       "       'EnclosedPorch', '3SsnPorch', 'ScreenPorch', 'PoolArea', 'PoolQC',\n",
       "       'Fence', 'MiscFeature', 'MiscVal', 'MoSold', 'YrSold', 'SaleType',\n",
       "       'SaleCondition', 'SalePrice'],\n",
       "      dtype='object')"
      ]
     },
     "execution_count": 137,
     "metadata": {},
     "output_type": "execute_result"
    }
   ],
   "source": [
    "aux2.columns"
   ]
  },
  {
   "cell_type": "code",
   "execution_count": 144,
   "id": "68874786",
   "metadata": {},
   "outputs": [
    {
     "data": {
      "text/plain": [
       "TA    675\n",
       "Gd    583\n",
       "Ex    100\n",
       "Fa     34\n",
       "Name: KitchenQual, dtype: int64"
      ]
     },
     "execution_count": 144,
     "metadata": {},
     "output_type": "execute_result"
    }
   ],
   "source": [
    "aux2[aux2['KitchenAbvGr'] == 1]['KitchenQual'].value_counts()"
   ]
  },
  {
   "cell_type": "code",
   "execution_count": 145,
   "id": "52c91461",
   "metadata": {},
   "outputs": [],
   "source": [
    "def inputa_kitchen(x):\n",
    "    if pd.isna(x):\n",
    "        return 2\n",
    "    else:\n",
    "        return x"
   ]
  },
  {
   "cell_type": "code",
   "execution_count": 146,
   "id": "0d9ee861",
   "metadata": {},
   "outputs": [
    {
     "data": {
      "text/html": [
       "<div>\n",
       "<style scoped>\n",
       "    .dataframe tbody tr th:only-of-type {\n",
       "        vertical-align: middle;\n",
       "    }\n",
       "\n",
       "    .dataframe tbody tr th {\n",
       "        vertical-align: top;\n",
       "    }\n",
       "\n",
       "    .dataframe thead th {\n",
       "        text-align: right;\n",
       "    }\n",
       "</style>\n",
       "<table border=\"1\" class=\"dataframe\">\n",
       "  <thead>\n",
       "    <tr style=\"text-align: right;\">\n",
       "      <th></th>\n",
       "      <th>LotFrontage</th>\n",
       "      <th>OverallQual</th>\n",
       "      <th>BsmtQual</th>\n",
       "      <th>TotalBsmtSF</th>\n",
       "      <th>HeatingQC</th>\n",
       "      <th>1stFlrSF</th>\n",
       "      <th>2ndFlrSF</th>\n",
       "      <th>GrLivArea</th>\n",
       "      <th>KitchenQual</th>\n",
       "      <th>TotRmsAbvGrd</th>\n",
       "      <th>GarageYrBlt</th>\n",
       "      <th>GarageCars</th>\n",
       "      <th>GarageArea</th>\n",
       "      <th>P</th>\n",
       "      <th>Y</th>\n",
       "    </tr>\n",
       "  </thead>\n",
       "  <tbody>\n",
       "    <tr>\n",
       "      <th>0</th>\n",
       "      <td>80.0</td>\n",
       "      <td>5</td>\n",
       "      <td>2.0</td>\n",
       "      <td>882.0</td>\n",
       "      <td>2</td>\n",
       "      <td>896</td>\n",
       "      <td>0</td>\n",
       "      <td>896</td>\n",
       "      <td>2.0</td>\n",
       "      <td>5</td>\n",
       "      <td>1961.0</td>\n",
       "      <td>1.0</td>\n",
       "      <td>730.0</td>\n",
       "      <td>0</td>\n",
       "      <td>1</td>\n",
       "    </tr>\n",
       "    <tr>\n",
       "      <th>1</th>\n",
       "      <td>81.0</td>\n",
       "      <td>6</td>\n",
       "      <td>2.0</td>\n",
       "      <td>1329.0</td>\n",
       "      <td>2</td>\n",
       "      <td>1329</td>\n",
       "      <td>0</td>\n",
       "      <td>1329</td>\n",
       "      <td>3.0</td>\n",
       "      <td>6</td>\n",
       "      <td>1958.0</td>\n",
       "      <td>1.0</td>\n",
       "      <td>312.0</td>\n",
       "      <td>0</td>\n",
       "      <td>1</td>\n",
       "    </tr>\n",
       "    <tr>\n",
       "      <th>2</th>\n",
       "      <td>74.0</td>\n",
       "      <td>5</td>\n",
       "      <td>3.0</td>\n",
       "      <td>928.0</td>\n",
       "      <td>3</td>\n",
       "      <td>928</td>\n",
       "      <td>701</td>\n",
       "      <td>1629</td>\n",
       "      <td>2.0</td>\n",
       "      <td>6</td>\n",
       "      <td>1997.0</td>\n",
       "      <td>2.0</td>\n",
       "      <td>482.0</td>\n",
       "      <td>0</td>\n",
       "      <td>1</td>\n",
       "    </tr>\n",
       "    <tr>\n",
       "      <th>3</th>\n",
       "      <td>78.0</td>\n",
       "      <td>6</td>\n",
       "      <td>2.0</td>\n",
       "      <td>926.0</td>\n",
       "      <td>4</td>\n",
       "      <td>926</td>\n",
       "      <td>678</td>\n",
       "      <td>1604</td>\n",
       "      <td>3.0</td>\n",
       "      <td>7</td>\n",
       "      <td>1998.0</td>\n",
       "      <td>2.0</td>\n",
       "      <td>470.0</td>\n",
       "      <td>0</td>\n",
       "      <td>1</td>\n",
       "    </tr>\n",
       "    <tr>\n",
       "      <th>4</th>\n",
       "      <td>43.0</td>\n",
       "      <td>8</td>\n",
       "      <td>3.0</td>\n",
       "      <td>1280.0</td>\n",
       "      <td>4</td>\n",
       "      <td>1280</td>\n",
       "      <td>0</td>\n",
       "      <td>1280</td>\n",
       "      <td>3.0</td>\n",
       "      <td>5</td>\n",
       "      <td>1992.0</td>\n",
       "      <td>2.0</td>\n",
       "      <td>506.0</td>\n",
       "      <td>0</td>\n",
       "      <td>1</td>\n",
       "    </tr>\n",
       "  </tbody>\n",
       "</table>\n",
       "</div>"
      ],
      "text/plain": [
       "   LotFrontage  OverallQual  BsmtQual  TotalBsmtSF  HeatingQC  1stFlrSF  \\\n",
       "0         80.0            5       2.0        882.0          2       896   \n",
       "1         81.0            6       2.0       1329.0          2      1329   \n",
       "2         74.0            5       3.0        928.0          3       928   \n",
       "3         78.0            6       2.0        926.0          4       926   \n",
       "4         43.0            8       3.0       1280.0          4      1280   \n",
       "\n",
       "   2ndFlrSF  GrLivArea  KitchenQual  TotRmsAbvGrd  GarageYrBlt  GarageCars  \\\n",
       "0         0        896          2.0             5       1961.0         1.0   \n",
       "1         0       1329          3.0             6       1958.0         1.0   \n",
       "2       701       1629          2.0             6       1997.0         2.0   \n",
       "3       678       1604          3.0             7       1998.0         2.0   \n",
       "4         0       1280          3.0             5       1992.0         2.0   \n",
       "\n",
       "   GarageArea  P  Y  \n",
       "0       730.0  0  1  \n",
       "1       312.0  0  1  \n",
       "2       482.0  0  1  \n",
       "3       470.0  0  1  \n",
       "4       506.0  0  1  "
      ]
     },
     "execution_count": 146,
     "metadata": {},
     "output_type": "execute_result"
    }
   ],
   "source": [
    "test.head()"
   ]
  },
  {
   "cell_type": "code",
   "execution_count": 149,
   "id": "8358623e",
   "metadata": {},
   "outputs": [],
   "source": [
    "test['KitchenQual'] = test['KitchenQual'].apply(inputa_kitchen)"
   ]
  },
  {
   "cell_type": "code",
   "execution_count": 150,
   "id": "e75652ba",
   "metadata": {},
   "outputs": [
    {
     "data": {
      "text/plain": [
       "<AxesSubplot:>"
      ]
     },
     "execution_count": 150,
     "metadata": {},
     "output_type": "execute_result"
    },
    {
     "data": {
      "image/png": "[encoded data removed]",
      "text/plain": [
       "<Figure size 432x288 with 2 Axes>"
      ]
     },
     "metadata": {},
     "output_type": "display_data"
    }
   ],
   "source": [
    "sns.heatmap(pd.isna(test))"
   ]
  },
  {
   "cell_type": "code",
   "execution_count": 156,
   "id": "835d6c2d",
   "metadata": {},
   "outputs": [],
   "source": [
    "output = pd.Series(lm.predict(test))\n",
    "resposta = pd.concat([aux['Id'], output], axis=1)\n",
    "resposta.rename(columns={0: 'SalePrice'}, inplace=True)\n",
    "resposta.to_csv('submit2.csv', index=False)"
   ]
  },
  {
   "cell_type": "code",
   "execution_count": null,
   "id": "02548cf3",
   "metadata": {},
   "outputs": [],
   "source": []
  }
 ],
 "metadata": {
  "kernelspec": {
   "display_name": "Python 3 (ipykernel)",
   "language": "python",
   "name": "python3"
  },
  "language_info": {
   "codemirror_mode": {
    "name": "ipython",
    "version": 3
   },
   "file_extension": ".py",
   "mimetype": "text/x-python",
   "name": "python",
   "nbconvert_exporter": "python",
   "pygments_lexer": "ipython3",
   "version": "3.8.0"
  }
 },
 "nbformat": 4,
 "nbformat_minor": 5
}
